{
 "cells": [
  {
   "cell_type": "markdown",
   "id": "8283e145-bb1a-4df4-b0ce-40adec52d32e",
   "metadata": {},
   "source": [
    "Assignment 2"
   ]
  },
  {
   "cell_type": "markdown",
   "id": "f3be137c-2239-46fc-a777-15fed4967bfd",
   "metadata": {},
   "source": [
    "Name : Sohila Ayman Hussien Mohamed"
   ]
  },
  {
   "cell_type": "markdown",
   "id": "77497cae-7373-4f78-84ab-bd06ddc144a8",
   "metadata": {},
   "source": [
    "Question 1"
   ]
  },
  {
   "cell_type": "code",
   "execution_count": 3,
   "id": "4e4a9b92-504f-4b3f-9d7b-42e22152fa70",
   "metadata": {},
   "outputs": [
    {
     "name": "stdout",
     "output_type": "stream",
     "text": [
      "[0, 1, 2, 3, 4, 5]\n"
     ]
    }
   ],
   "source": [
    "list1 =[3,1,4]\n",
    "list2 = [2,5,0]\n",
    "list3 = list1 + list2\n",
    "for x in range(len(list3)):\n",
    "    for y in range(len(list3)-x-1):\n",
    "        if list3[y]>list3[y+1]:\n",
    "            temp = list3[y]\n",
    "            list3[y] = list3[y+1]\n",
    "            list3[y+1] = temp\n",
    "print(list3)\n"
   ]
  },
  {
   "cell_type": "markdown",
   "id": "db900b30-0667-44ea-a4dd-0393a9da3159",
   "metadata": {},
   "source": [
    "Question 2"
   ]
  },
  {
   "cell_type": "code",
   "execution_count": 13,
   "id": "4b58d64b-e147-4e33-bb5e-d4154e17918b",
   "metadata": {},
   "outputs": [
    {
     "name": "stdout",
     "output_type": "stream",
     "text": [
      "aaabbbccc\n"
     ]
    }
   ],
   "source": [
    "s = \"abc\"\n",
    "n = 3\n",
    "s2= \"\"\n",
    "for x in s:\n",
    "    s2+=x*n\n",
    "print(s2)"
   ]
  },
  {
   "cell_type": "code",
   "execution_count": null,
   "id": "694a522e-4e29-44b8-9425-aad509e6ae27",
   "metadata": {},
   "outputs": [],
   "source": []
  }
 ],
 "metadata": {
  "kernelspec": {
   "display_name": "Python 3 (ipykernel)",
   "language": "python",
   "name": "python3"
  },
  "language_info": {
   "codemirror_mode": {
    "name": "ipython",
    "version": 3
   },
   "file_extension": ".py",
   "mimetype": "text/x-python",
   "name": "python",
   "nbconvert_exporter": "python",
   "pygments_lexer": "ipython3",
   "version": "3.12.7"
  }
 },
 "nbformat": 4,
 "nbformat_minor": 5
}
