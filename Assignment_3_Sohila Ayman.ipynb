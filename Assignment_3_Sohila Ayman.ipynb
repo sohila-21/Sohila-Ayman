{
 "cells": [
  {
   "cell_type": "markdown",
   "id": "7ac2cd7c-6573-47c2-a440-f84fec01a9cb",
   "metadata": {},
   "source": [
    "# Assignment 3"
   ]
  },
  {
   "cell_type": "markdown",
   "id": "d4f5ca3c-ba01-4f18-aa8e-2c7446511c9a",
   "metadata": {
    "jp-MarkdownHeadingCollapsed": true
   },
   "source": [
    " Name: Sohila Ayman Hussien Mohamed"
   ]
  },
  {
   "cell_type": "markdown",
   "id": "2c535cbd-a220-4c48-b5cb-2fe8f45fe1d6",
   "metadata": {},
   "source": [
    "question 1"
   ]
  },
  {
   "cell_type": "code",
   "execution_count": null,
   "id": "30f9b3db-ca44-4676-8856-e256ede7f7f1",
   "metadata": {},
   "outputs": [],
   "source": [
    "def count_vowels(text):\n",
    "    vowels = \"aeiouAEIOU\"\n",
    "    count = 0\n",
    "    for char in text:\n",
    "        if char in vowels:\n",
    "            count+=1\n",
    "    return count\n",
    "text = str (input (\"enter the text: \"))\n",
    "vowel_count = count_vowels(text)\n",
    "print (\"the number of vowels is: \",vowel_count)"
   ]
  },
  {
   "cell_type": "markdown",
   "id": "71fbf2cc-6236-482f-b422-1b4d32ae2dba",
   "metadata": {},
   "source": [
    "question 2"
   ]
  },
  {
   "cell_type": "code",
   "execution_count": null,
   "id": "4edadb4e-fdd0-4091-bd2e-589e74947a5f",
   "metadata": {},
   "outputs": [],
   "source": [
    "def find_max(numbers):\n",
    "    if not numbers:\n",
    "        return None\n",
    "    max_value = numbers[0]\n",
    "    for num in numbers:\n",
    "        if num>max_value:\n",
    "            max_value = num\n",
    "    return max_value\n",
    "numbers = input(\"enter a list of numbers: \")\n",
    "max_number =find_max(numbers)\n",
    "print (\"the maximum number is: \",max_number)"
   ]
  },
  {
   "cell_type": "code",
   "execution_count": null,
   "id": "d10940f8-b495-4190-874a-d81d9ae0749a",
   "metadata": {},
   "outputs": [],
   "source": []
  }
 ],
 "metadata": {
  "kernelspec": {
   "display_name": "Python 3 (ipykernel)",
   "language": "python",
   "name": "python3"
  },
  "language_info": {
   "codemirror_mode": {
    "name": "ipython",
    "version": 3
   },
   "file_extension": ".py",
   "mimetype": "text/x-python",
   "name": "python",
   "nbconvert_exporter": "python",
   "pygments_lexer": "ipython3",
   "version": "3.12.7"
  }
 },
 "nbformat": 4,
 "nbformat_minor": 5
}
